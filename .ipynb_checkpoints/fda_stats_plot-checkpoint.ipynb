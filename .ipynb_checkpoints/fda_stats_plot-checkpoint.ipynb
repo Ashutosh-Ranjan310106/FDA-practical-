{
 "cells": [
  {
   "cell_type": "code",
   "execution_count": 5,
   "id": "a2b8f19f-e31e-4fbc-9d2d-916964771281",
   "metadata": {},
   "outputs": [],
   "source": [
    "import pandas as pd\n",
    "from sklearn.datasets import load_iris, load_digits, load_diabetes\n",
    "from sklearn.datasets import fetch_california_housing\n",
    "\n",
    "import matplotlib.pyplot as plt\n",
    "import seaborn as sns\n",
    "import numpy as np\n",
    "import scipy as stats\n",
    "\n",
    "\n",
    "\n"
   ]
  },
  {
   "cell_type": "code",
   "execution_count": 8,
   "id": "ac29e30b-e9d0-4691-ac42-790c4b10e073",
   "metadata": {},
   "outputs": [],
   "source": [
    "iris = load_iris()\n",
    "digits = load_digits()\n",
    "diabetes = load_diabetes()\n",
    "housing = fetch_california_housing(as_frame = True)\n",
    "\n"
   ]
  },
  {
   "cell_type": "code",
   "execution_count": 1,
   "id": "ebdc5790-648b-4081-a3b9-5c80e3fda064",
   "metadata": {},
   "outputs": [
    {
     "ename": "SyntaxError",
     "evalue": "unmatched ')' (3194460766.py, line 4)",
     "output_type": "error",
     "traceback": [
      "\u001b[1;36m  Cell \u001b[1;32mIn[1], line 4\u001b[1;36m\u001b[0m\n\u001b[1;33m    diabetes_df = pd.DataFrame(diabetes.data, columns = diabetes.feature_names))\u001b[0m\n\u001b[1;37m                                                                               ^\u001b[0m\n\u001b[1;31mSyntaxError\u001b[0m\u001b[1;31m:\u001b[0m unmatched ')'\n"
     ]
    }
   ],
   "source": [
    "df_iris = pd.DataFrame(iris.data, columns = iris.feature_names)\n",
    "df_digits = pd.DataFrame(digits.data, columns = [f\"pixel_{i}\" for i in range(digits.data.shape[1])])\n",
    "df_housing = pd.DataFrame(housing.data, columns = housing.feature_names)\n",
    "diabetes_df = pd.DataFrame(diabetes.data, columns = diabetes.feature_names))\n",
    "\n",
    "#taking three columns from each dataframe for readability\n",
    "df_iris = df_iris.iloc[:, : 3]\n",
    "df_digits = df_digits.iloc[:, : 3]\n",
    "df_housing = df_housing.iloc[:, : 3]\n",
    "diabetes_df = diabetes_df.iloc[:, : 3]\n",
    "\n",
    "# converting dataframes into dictionary\n",
    "dataset = { \"iris\" : df_iris, \"digits\": df_digits, \"housing\" : df_housing, \"diabetes\" : diabetes_df}\n",
    "\n",
    "for i in dataset.items:\n",
    "    df_mean = dataset[i].values.mean()\n",
    "    df_median = dataset[i].values.median()\n",
    "    df_mode = dataset[i].values.mode()\n",
    "df_std = stats.std_dev(dataset[i])\n"
   ]
  },
  {
   "cell_type": "code",
   "execution_count": 2,
   "id": "3819e3cc-2f1a-4ac7-ad60-76a4b2e5c225",
   "metadata": {},
   "outputs": [
    {
     "ename": "SyntaxError",
     "evalue": "closing parenthesis ']' does not match opening parenthesis '(' (3107567862.py, line 5)",
     "output_type": "error",
     "traceback": [
      "\u001b[1;36m  Cell \u001b[1;32mIn[2], line 5\u001b[1;36m\u001b[0m\n\u001b[1;33m    plt.ylable(\"mean, median and mode\"])\u001b[0m\n\u001b[1;37m                                      ^\u001b[0m\n\u001b[1;31mSyntaxError\u001b[0m\u001b[1;31m:\u001b[0m closing parenthesis ']' does not match opening parenthesis '('\n"
     ]
    }
   ],
   "source": [
    "#ploting the line graph for the mean, median and mode of the dataset\n",
    "\n",
    "plt.plot(\"x\" = dataset.items, \"y\" = [df_mean, df_mode, df_median], color = [\"yellow\", \"orange\", \"red\"], line = \"--\")\n",
    "plt.xlable(\"datasets\")\n",
    "plt.ylable(\"mean, median and mode\"])\n",
    "plt.title(\"line chart for mean, median, mode analysis of different datasets\")\n",
    "plt.show()\n",
    "\n",
    "#ploting the bars for the standard deviation of different datasets\n",
    "\n",
    "plt.plot(data = df_std, kind = \"bar\", width = 0.5)\n",
    "plt.title(\"bar grap of the standard deviations of different datasets\")\n",
    "plt.show()\n"
   ]
  },
  {
   "cell_type": "code",
   "execution_count": null,
   "id": "9b791b14-528e-42e2-b42b-aacc3e308033",
   "metadata": {},
   "outputs": [],
   "source": []
  }
 ],
 "metadata": {
  "kernelspec": {
   "display_name": "Python 3 (ipykernel)",
   "language": "python",
   "name": "python3"
  },
  "language_info": {
   "codemirror_mode": {
    "name": "ipython",
    "version": 3
   },
   "file_extension": ".py",
   "mimetype": "text/x-python",
   "name": "python",
   "nbconvert_exporter": "python",
   "pygments_lexer": "ipython3",
   "version": "3.11.5"
  }
 },
 "nbformat": 4,
 "nbformat_minor": 5
}
